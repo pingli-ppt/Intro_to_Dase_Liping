{
 "cells": [
  {
   "cell_type": "markdown",
   "metadata": {},
   "source": [
    "# 房屋价格数据集数据预处理\n",
    "本 notebook 包含房屋价格数据集的完整预处理流程，包括数据加载、缺失值处理、异常值检测、特征相关性分析、价格标准化与离散化等步骤。"
   ]
  },
  {
   "cell_type": "code",
   "execution_count": 58,
   "metadata": {},
   "outputs": [],
   "source": [
    "# 导入所需库\n",
    "import pandas as pd\n",
    "import numpy as np\n",
    "import matplotlib.pyplot as plt\n",
    "import seaborn as sns\n",
    "from sklearn.impute import KNNImputer\n",
    "from sklearn.preprocessing import StandardScaler, KBinsDiscretizer\n",
    "\n",
    "# 设置中文字体，确保图表中文正常显示\n",
    "plt.rcParams['font.sans-serif'] = ['SimHei']\n",
    "plt.rcParams['axes.unicode_minus'] = False  # 解决负号显示问题"
   ]
  },
  {
   "cell_type": "markdown",
   "metadata": {},
   "source": [
    "## 一、数据加载与初步探索"
   ]
  },
  {
   "cell_type": "code",
   "execution_count": 59,
   "metadata": {},
   "outputs": [
    {
     "name": "stdout",
     "output_type": "stream",
     "text": [
      "数据集形状（行数, 列数）： (1460, 81)\n",
      "\n",
      "前5行数据：\n",
      "   Id  MSSubClass MSZoning  LotFrontage  LotArea Street Alley LotShape  \\\n",
      "0   1          60       RL         65.0     8450   Pave   NaN      Reg   \n",
      "1   2          20       RL         80.0     9600   Pave   NaN      Reg   \n",
      "2   3          60       RL         68.0    11250   Pave   NaN      IR1   \n",
      "3   4          70       RL         60.0     9550   Pave   NaN      IR1   \n",
      "4   5          60       RL         84.0    14260   Pave   NaN      IR1   \n",
      "\n",
      "  LandContour Utilities  ... PoolArea PoolQC Fence MiscFeature MiscVal MoSold  \\\n",
      "0         Lvl    AllPub  ...        0    NaN   NaN         NaN       0      2   \n",
      "1         Lvl    AllPub  ...        0    NaN   NaN         NaN       0      5   \n",
      "2         Lvl    AllPub  ...        0    NaN   NaN         NaN       0      9   \n",
      "3         Lvl    AllPub  ...        0    NaN   NaN         NaN       0      2   \n",
      "4         Lvl    AllPub  ...        0    NaN   NaN         NaN       0     12   \n",
      "\n",
      "  YrSold  SaleType  SaleCondition  SalePrice  \n",
      "0   2008        WD         Normal     208500  \n",
      "1   2007        WD         Normal     181500  \n",
      "2   2008        WD         Normal     223500  \n",
      "3   2006        WD        Abnorml     140000  \n",
      "4   2008        WD         Normal     250000  \n",
      "\n",
      "[5 rows x 81 columns]\n",
      "\n",
      "数据类型信息：\n",
      "object     43\n",
      "int64      35\n",
      "float64     3\n",
      "Name: count, dtype: int64\n",
      "\n",
      "缺失值统计（前20个缺失最多的属性）：\n",
      "              缺失数量\n",
      "PoolQC        1453\n",
      "MiscFeature   1406\n",
      "Alley         1369\n",
      "Fence         1179\n",
      "MasVnrType     872\n",
      "FireplaceQu    690\n",
      "LotFrontage    259\n",
      "GarageQual      81\n",
      "GarageFinish    81\n",
      "GarageType      81\n",
      "GarageYrBlt     81\n",
      "GarageCond      81\n",
      "BsmtFinType2    38\n",
      "BsmtExposure    38\n",
      "BsmtCond        37\n",
      "BsmtQual        37\n",
      "BsmtFinType1    37\n",
      "MasVnrArea       8\n",
      "Electrical       1\n"
     ]
    }
   ],
   "source": [
    "# 加载数据\n",
    "df = pd.read_csv('train.csv')#将数据存储在df（DataFrame 对象）中\n",
    "\n",
    "# 查看数据基本信息\n",
    "print(\"数据集形状（行数, 列数）：\", df.shape)\n",
    "\n",
    "print(\"\\n前5行数据：\")\n",
    "print(df.head())\n",
    "\n",
    "# 查看数据类型分布\n",
    "print(\"\\n数据类型信息：\")\n",
    "print(df.dtypes.value_counts())\n",
    "\n",
    "# 查看缺失值情况\n",
    "missing_info = df.isnull().sum().sort_values(ascending=False)\n",
    "missing_df = pd.DataFrame({'缺失数量': missing_info})\n",
    "print(\"\\n缺失值统计（前20个缺失最多的属性）：\")\n",
    "print(missing_df[missing_df['缺失数量'] > 0].head(20))"
   ]
  },
  {
   "cell_type": "markdown",
   "metadata": {},
   "source": [
    "## 二、缺失值的检测与处理"
   ]
  },
  {
   "cell_type": "code",
   "execution_count": 60,
   "metadata": {},
   "outputs": [
    {
     "name": "stdout",
     "output_type": "stream",
     "text": [
      "缺失值处理后，各属性缺失数量：\n",
      "0\n"
     ]
    }
   ],
   "source": [
    "# 1. 处理分类属性缺失值\n",
    "# 定义需要删除的高缺失比例分类属性（缺失比例>50%）\n",
    "high_missing_cat_cols = ['PoolQC', 'MiscFeature', 'Alley', 'Fence', 'FireplaceQu']\n",
    "df = df.drop(columns=high_missing_cat_cols)\n",
    "\n",
    "# 剩余分类属性用\"Unknown\"填充\n",
    "cat_cols = df.select_dtypes(include=['object']).columns\n",
    "for col in cat_cols:\n",
    "    if df[col].isnull().sum() > 0:\n",
    "        df[col] = df[col].fillna('Unknown') \n",
    "\n",
    "# 2. 处理数值属性缺失值（KNN填充）\n",
    "num_cols = df.select_dtypes(include=['int64', 'float64']).columns\n",
    "# 提取数值型数据\n",
    "num_data = df[num_cols]\n",
    "# 初始化KNNImputer（用5个最近邻）\n",
    "knn_imputer = KNNImputer(n_neighbors=5)\n",
    "# 执行填充\n",
    "num_data_imputed = knn_imputer.fit_transform(num_data)\n",
    "# 替换原数据中的数值型属性\n",
    "df[num_cols] = num_data_imputed\n",
    "\n",
    "# 验证缺失值处理结果\n",
    "print(\"缺失值处理后，各属性缺失数量：\")\n",
    "print(df.isnull().sum().sum())  # 输出0表示无缺失值"
   ]
  },
  {
   "cell_type": "markdown",
   "metadata": {},
   "source": [
    "## 三、特征间的相关性分析"
   ]
  },
  {
   "cell_type": "code",
   "execution_count": 61,
   "metadata": {},
   "outputs": [
    {
     "name": "stdout",
     "output_type": "stream",
     "text": [
      "与房价（SalePrice）相关性前20的特征：\n",
      "SalePrice       1.000000\n",
      "OverallQual     0.790982\n",
      "GrLivArea       0.708624\n",
      "GarageCars      0.640409\n",
      "GarageArea      0.623431\n",
      "TotalBsmtSF     0.613581\n",
      "1stFlrSF        0.605852\n",
      "FullBath        0.560664\n",
      "TotRmsAbvGrd    0.533723\n",
      "YearBuilt       0.522897\n",
      "GarageYrBlt     0.512455\n",
      "YearRemodAdd    0.507101\n",
      "MasVnrArea      0.479310\n",
      "Fireplaces      0.466929\n",
      "BsmtFinSF1      0.386420\n",
      "LotFrontage     0.357165\n",
      "WoodDeckSF      0.324413\n",
      "2ndFlrSF        0.319334\n",
      "OpenPorchSF     0.315856\n",
      "HalfBath        0.284108\n",
      "LotArea         0.263843\n",
      "Name: SalePrice, dtype: float64\n",
      "\n",
      "高共线性特征对（相关性>0.8）：\n",
      "YearBuilt 与 GarageYrBlt：相关性 0.81\n",
      "TotalBsmtSF 与 1stFlrSF：相关性 0.82\n",
      "GrLivArea 与 TotRmsAbvGrd：相关性 0.83\n",
      "GarageCars 与 GarageArea：相关性 0.88\n"
     ]
    }
   ],
   "source": [
    "# 计算数值型特征间的相关性矩阵\n",
    "num_df = df.select_dtypes(include=['int64', 'float64'])\n",
    "corr_matrix = num_df.corr()\n",
    "\n",
    "# 查看与SalePrice相关性前20的特征\n",
    "sale_price_corr = corr_matrix['SalePrice'].sort_values(ascending=False)\n",
    "print(\"与房价（SalePrice）相关性前20的特征：\")\n",
    "print(sale_price_corr.head(21))  # 包含SalePrice自身\n",
    "\n",
    "# 绘制相关性热力图（选取与SalePrice相关性前15的特征）\n",
    "top_corr_features = sale_price_corr.head(15).index\n",
    "plt.figure(figsize=(12, 10))\n",
    "sns.heatmap(corr_matrix.loc[top_corr_features, top_corr_features], \n",
    "            annot=True, cmap='coolwarm', fmt='.2f', linewidths=0.5)\n",
    "plt.title('与房价相关性前15的特征热力图')\n",
    "plt.tight_layout()\n",
    "plt.savefig('特征相关性热力图.png', dpi=300)\n",
    "plt.close()\n",
    "\n",
    "# 分析高相关性特征间的多重共线性（相关性>0.8视为高共线性）\n",
    "high_corr_pairs = []\n",
    "for i in range(len(corr_matrix.columns)):\n",
    "    for j in range(i + 1, len(corr_matrix.columns)):\n",
    "        if abs(corr_matrix.iloc[i, j]) > 0.8 and corr_matrix.columns[i] != 'SalePrice' and corr_matrix.columns[j] != 'SalePrice':\n",
    "            high_corr_pairs.append((corr_matrix.columns[i], corr_matrix.columns[j], corr_matrix.iloc[i, j]))\n",
    "\n",
    "print(\"\\n高共线性特征对（相关性>0.8）：\")\n",
    "for pair in high_corr_pairs:\n",
    "    print(f\"{pair[0]} 与 {pair[1]}：相关性 {pair[2]:.2f}\")"
   ]
  },
  {
   "cell_type": "markdown",
   "metadata": {},
   "source": [
    "## 四、异常值检测与处理"
   ]
  },
  {
   "cell_type": "code",
   "execution_count": null,
   "metadata": {},
   "outputs": [
    {
     "name": "stdout",
     "output_type": "stream",
     "text": [
      "与房价（SalePrice）相关性>0.61的关键数值属性：\n",
      "1. OverallQual：相关性 = 0.791\n",
      "2. GrLivArea：相关性 = 0.709\n",
      "3. GarageCars：相关性 = 0.640\n",
      "4. GarageArea：相关性 = 0.623\n",
      "5. TotalBsmtSF：相关性 = 0.614\n",
      "\n",
      "OverallQual属性的异常值数量：2\n",
      "OverallQual异常值示例：\n",
      "375    1.0\n",
      "533    1.0\n",
      "Name: OverallQual, dtype: float64\n",
      "\n",
      "GrLivArea属性的异常值数量：16\n",
      "GrLivArea异常值示例：\n",
      "118    3222.0\n",
      "185    3608.0\n",
      "197    3112.0\n",
      "304    3493.0\n",
      "496    3228.0\n",
      "Name: GrLivArea, dtype: float64\n",
      "\n",
      "GarageCars属性的异常值数量：0\n",
      "\n",
      "GarageArea属性的异常值数量：7\n",
      "GarageArea异常值示例：\n",
      "178     1166.0\n",
      "581     1390.0\n",
      "664     1134.0\n",
      "825     1220.0\n",
      "1061    1248.0\n",
      "Name: GarageArea, dtype: float64\n",
      "\n",
      "TotalBsmtSF属性的异常值数量：10\n",
      "TotalBsmtSF异常值示例：\n",
      "224    2392.0\n",
      "332    3206.0\n",
      "440    3094.0\n",
      "496    3200.0\n",
      "523    3138.0\n",
      "Name: TotalBsmtSF, dtype: float64\n"
     ]
    }
   ],
   "source": [
    "# 第一步：先筛选与房价（SalePrice）相关性>0.61的数值属性\n",
    "# 1. 提取所有数值型特征（排除非数字类型）\n",
    "num_df = df.select_dtypes(include=['int64', 'float64'])\n",
    "# 2. 计算数值特征与SalePrice的相关性（按绝对值降序排序）\n",
    "corr_with_saleprice = num_df.corr()['SalePrice'].abs().sort_values(ascending=False)\n",
    "# 3. 筛选相关性>0.61的特征（排除SalePrice自身，避免自相关）\n",
    "key_num_cols = corr_with_saleprice[corr_with_saleprice > 0.61].drop('SalePrice').index.tolist()\n",
    "\n",
    "# 打印筛选结果，确认关键属性\n",
    "print(\"与房价（SalePrice）相关性>0.61的关键数值属性：\")\n",
    "for i, col in enumerate(key_num_cols, 1):\n",
    "    corr_value = num_df.corr()['SalePrice'][col]\n",
    "    print(f\"{i}. {col}：相关性 = {corr_value:.3f}\")\n",
    "\n",
    "# 1. 箱线图可视化异常值\n",
    "plt.figure(figsize=(15, 10))\n",
    "for i, col in enumerate(key_num_cols):\n",
    "    plt.subplot(2, 3, i + 1)\n",
    "    sns.boxplot(x=df[col])\n",
    "    plt.title(f'{col}箱线图（异常值检测）')\n",
    "plt.tight_layout()\n",
    "plt.savefig('异常值箱线图.png', dpi=300)\n",
    "plt.close()\n",
    "\n",
    "# 2. Z-score方法检测异常值（Z-score绝对值>3视为异常值）\n",
    "def detect_outliers_zscore(data, col, threshold=3):\n",
    "    mean = data[col].mean()\n",
    "    std = data[col].std()\n",
    "    z_scores = (data[col] - mean) / std\n",
    "    outliers = data[abs(z_scores) > threshold]\n",
    "    return outliers, z_scores\n",
    "\n",
    "# 统计各关键属性的异常值数量\n",
    "outliers_summary = {}\n",
    "for col in key_num_cols:\n",
    "    outliers, _ = detect_outliers_zscore(df, col)\n",
    "    outliers_summary[col] = len(outliers)\n",
    "    print(f\"\\n{col}属性的异常值数量：{len(outliers)}\")\n",
    "    if len(outliers) > 0:\n",
    "        print(f\"{col}异常值示例：\")\n",
    "        print(outliers[col].head())\n",
    "\n",
    "# 3. 异常值处理（采用“缩尾处理”，将异常值替换为3倍标准差处的值）\n",
    "def handle_outliers_zscore(data, col, threshold=3):\n",
    "    mean = data[col].mean()\n",
    "    std = data[col].std()\n",
    "    upper_bound = mean + threshold * std\n",
    "    lower_bound = mean - threshold * std\n",
    "    # 缩尾处理\n",
    "    data[col] = np.where(data[col] > upper_bound, upper_bound, data[col])\n",
    "    data[col] = np.where(data[col] < lower_bound, lower_bound, data[col])\n",
    "    return data\n",
    "\n",
    "# 对关键属性进行异常值处理\n",
    "for col in key_num_cols:\n",
    "    df = handle_outliers_zscore(df, col)\n",
    "\n",
    "# 验证异常值处理结果（重新绘制箱线图）\n",
    "plt.figure(figsize=(15, 10))\n",
    "for i, col in enumerate(key_num_cols):\n",
    "    plt.subplot(2, 3, i + 1)\n",
    "    sns.boxplot(x=df[col])\n",
    "    plt.title(f'{col}箱线图（异常值处理后）')\n",
    "plt.tight_layout()\n",
    "plt.savefig('异常值处理后箱线图.png', dpi=300)\n",
    "plt.close()"
   ]
  },
  {
   "cell_type": "markdown",
   "metadata": {},
   "source": [
    "## 五、对price属性进行标准化"
   ]
  },
  {
   "cell_type": "code",
   "execution_count": 63,
   "metadata": {},
   "outputs": [
    {
     "name": "stdout",
     "output_type": "stream",
     "text": [
      "标准化前SalePrice统计信息：\n",
      "count      1460.000000\n",
      "mean     180921.195890\n",
      "std       79442.502883\n",
      "min       34900.000000\n",
      "25%      129975.000000\n",
      "50%      163000.000000\n",
      "75%      214000.000000\n",
      "max      755000.000000\n",
      "Name: SalePrice, dtype: float64\n",
      "\n",
      "标准化后SalePrice_Scaled统计信息：\n",
      "count    1.460000e+03\n",
      "mean     1.362685e-16\n",
      "std      1.000343e+00\n",
      "min     -1.838704e+00\n",
      "25%     -6.415162e-01\n",
      "50%     -2.256643e-01\n",
      "75%      4.165294e-01\n",
      "max      7.228819e+00\n",
      "Name: SalePrice_Scaled, dtype: float64\n"
     ]
    }
   ],
   "source": [
    "# 提取SalePrice属性\n",
    "sale_price = df['SalePrice'].values.reshape(-1, 1)\n",
    "\n",
    "# 初始化标准化器\n",
    "scaler = StandardScaler()\n",
    "# 执行标准化\n",
    "sale_price_scaled = scaler.fit_transform(sale_price)\n",
    "\n",
    "# 将标准化后的数据添加到原数据框\n",
    "df['SalePrice_Scaled'] = sale_price_scaled\n",
    "\n",
    "# 查看标准化前后的统计信息\n",
    "print(\"标准化前SalePrice统计信息：\")\n",
    "print(df['SalePrice'].describe())\n",
    "print(\"\\n标准化后SalePrice_Scaled统计信息：\")\n",
    "print(df['SalePrice_Scaled'].describe())\n",
    "\n",
    "# 可视化标准化前后的分布\n",
    "plt.figure(figsize=(12, 5))\n",
    "# 标准化前\n",
    "plt.subplot(1, 2, 1)\n",
    "sns.histplot(df['SalePrice'], kde=True)\n",
    "plt.title('标准化前房价分布')\n",
    "plt.xlabel('房价（美元）')\n",
    "# 标准化后\n",
    "plt.subplot(1, 2, 2)\n",
    "sns.histplot(df['SalePrice_Scaled'], kde=True)\n",
    "plt.title('标准化后房价分布')\n",
    "plt.xlabel('标准化房价（Z-score）')\n",
    "plt.tight_layout()\n",
    "plt.savefig('房价标准化前后分布.png', dpi=300)\n",
    "plt.close()"
   ]
  },
  {
   "cell_type": "markdown",
   "metadata": {},
   "source": [
    "## 六、根据price属性进行离散化"
   ]
  },
  {
   "cell_type": "code",
   "execution_count": 64,
   "metadata": {},
   "outputs": [
    {
     "name": "stdout",
     "output_type": "stream",
     "text": [
      "房价离散化区间（美元）：\n",
      "类别0：[34900, 124000]，样本数：289\n",
      "类别1：[124000, 147000]，样本数：291\n",
      "类别2：[147000, 179300]，样本数：296\n",
      "类别3：[179300, 230000]，样本数：287\n",
      "类别4：[230000, 755000]，样本数：297\n"
     ]
    }
   ],
   "source": [
    "# 提取原始SalePrice属性\n",
    "sale_price = df['SalePrice'].values.reshape(-1, 1)\n",
    "\n",
    "# 初始化离散化器（等频离散化，分为5类）\n",
    "discretizer = KBinsDiscretizer(\n",
    "    n_bins=5, \n",
    "    encode='ordinal', \n",
    "    strategy='quantile',\n",
    "    quantile_method='averaged_inverted_cdf'  \n",
    ")\n",
    "# 执行离散化\n",
    "sale_price_discretized = discretizer.fit_transform(sale_price)\n",
    "\n",
    "# 将离散化后的数据添加到原数据框\n",
    "df['SalePrice_Discretized'] = sale_price_discretized.astype(int)\n",
    "\n",
    "# 查看离散化后的区间和每个区间的样本数量\n",
    "bins = discretizer.bin_edges_[0]\n",
    "print(\"房价离散化区间（美元）：\")\n",
    "for i in range(len(bins) - 1):\n",
    "    count = len(df[df['SalePrice_Discretized'] == i])\n",
    "    print(f\"类别{i}：[{bins[i]:.0f}, {bins[i+1]:.0f}]，样本数：{count}\")\n",
    "\n",
    "# 可视化离散化后的类别分布\n",
    "plt.figure(figsize=(8, 5))\n",
    "sns.countplot(x='SalePrice_Discretized', data=df)\n",
    "plt.title('房价离散化后类别分布')\n",
    "plt.xlabel('房价类别（0-4，从低到高）')\n",
    "plt.ylabel('样本数量')\n",
    "plt.xticks(ticks=[0, 1, 2, 3, 4], labels=['低房价', '中低房价', '中房价', '中高房价', '高房价'])\n",
    "plt.tight_layout()\n",
    "plt.savefig('房价离散化类别分布.png', dpi=300)\n",
    "plt.close()"
   ]
  },
  {
   "cell_type": "markdown",
   "metadata": {},
   "source": [
    "## 七、与price相关性最高的三个特征分析"
   ]
  },
  {
   "cell_type": "code",
   "execution_count": 65,
   "metadata": {},
   "outputs": [
    {
     "name": "stdout",
     "output_type": "stream",
     "text": [
      "与房价相关性最高的三个特征： ['OverallQual', 'GrLivArea', 'GarageCars']\n",
      "\n",
      "各特征与房价的相关性：\n",
      "OverallQual 与 SalePrice 相关性：0.7910\n",
      "GrLivArea 与 SalePrice 相关性：0.7086\n",
      "GarageCars 与 SalePrice 相关性：0.6404\n",
      "\n",
      "与房价相关性最高的三个特征解释：\n",
      "1. OverallQual（整体质量）：\n",
      "   - 相关性：0.79（最高），表示房屋整体质量等级与房价呈强正相关。\n",
      "   - 逻辑解释：房屋质量是购房者最关注的核心因素之一，质量等级越高（如材料质量、装修工艺、结构稳定性），房屋的居住体验和保值能力越强，售价自然越高。例如，质量等级10的房屋均价远高于等级1的房屋。\n",
      "2. GrLivArea（地上居住面积）：\n",
      "   - 相关性：0.71（第二），表示地上居住面积与房价呈强正相关。\n",
      "   - 逻辑解释：面积是决定房屋价值的基础因素，更大的居住面积意味着更多的使用空间（如卧室、客厅数量增加），能满足家庭对空间的需求，因此面积越大，房价通常越高，散点图可清晰看到两者的正相关趋势。\n",
      "3. GarageCars（车库可停车辆数）：\n",
      "   - 相关性：0.68（第三），表示车库可停车辆数与房价呈中等偏强正相关。\n",
      "   - 逻辑解释：车库是现代房屋的重要配套设施，可停车辆数越多（如3-4辆），意味着房屋定位更高端，能满足多车家庭的停车需求，同时车库面积也间接反映房屋整体规模，因此与房价正相关，箱线图显示4辆车车库的房屋均价显著高于1辆车车库的房屋。\n"
     ]
    }
   ],
   "source": [
    "# 再次确认与SalePrice相关性最高的三个特征（排除自身）\n",
    "top3_corr_features = sale_price_corr.drop('SalePrice').head(3).index.tolist()\n",
    "print(\"与房价相关性最高的三个特征：\", top3_corr_features)\n",
    "print(\"\\n各特征与房价的相关性：\")\n",
    "for feat in top3_corr_features:\n",
    "    print(f\"{feat} 与 SalePrice 相关性：{corr_matrix.loc[feat, 'SalePrice']:.4f}\")\n",
    "\n",
    "# 可视化三个特征与房价的关系（散点图）\n",
    "plt.figure(figsize=(15, 5))\n",
    "# 1. OverallQual vs SalePrice\n",
    "plt.subplot(1, 3, 1)\n",
    "sns.boxplot(x='OverallQual', y='SalePrice', data=df)\n",
    "plt.title('整体质量（OverallQual）与房价关系')\n",
    "plt.xlabel('整体质量等级（1-10）')\n",
    "plt.ylabel('房价（美元）')\n",
    "# 2. GrLivArea vs SalePrice\n",
    "plt.subplot(1, 3, 2)\n",
    "sns.scatterplot(x='GrLivArea', y='SalePrice', data=df, alpha=0.6)\n",
    "plt.title('地上居住面积（GrLivArea）与房价关系')\n",
    "plt.xlabel('地上居住面积（平方英尺）')\n",
    "plt.ylabel('房价（美元）')\n",
    "# 3. GarageCars vs SalePrice\n",
    "plt.subplot(1, 3, 3)\n",
    "sns.boxplot(x='GarageCars', y='SalePrice', data=df)\n",
    "plt.title('车库可停车辆数（GarageCars）与房价关系')\n",
    "plt.xlabel('车库可停车辆数（1-4）')\n",
    "plt.ylabel('房价（美元）')\n",
    "plt.tight_layout()\n",
    "plt.savefig('房价Top3相关特征关系图.png', dpi=300)\n",
    "plt.close()\n",
    "\n",
    "# 特征解释\n",
    "print(\"\\n与房价相关性最高的三个特征解释：\")\n",
    "print(\"1. OverallQual（整体质量）：\")\n",
    "print(\"   - 相关性：0.79（最高），表示房屋整体质量等级与房价呈强正相关。\")\n",
    "print(\"   - 逻辑解释：房屋质量是购房者最关注的核心因素之一，质量等级越高（如材料质量、装修工艺、结构稳定性），房屋的居住体验和保值能力越强，售价自然越高。例如，质量等级10的房屋均价远高于等级1的房屋。\")\n",
    "print(\"2. GrLivArea（地上居住面积）：\")\n",
    "print(\"   - 相关性：0.71（第二），表示地上居住面积与房价呈强正相关。\")\n",
    "print(\"   - 逻辑解释：面积是决定房屋价值的基础因素，更大的居住面积意味着更多的使用空间（如卧室、客厅数量增加），能满足家庭对空间的需求，因此面积越大，房价通常越高，散点图可清晰看到两者的正相关趋势。\")\n",
    "print(\"3. GarageCars（车库可停车辆数）：\")\n",
    "print(\"   - 相关性：0.68（第三），表示车库可停车辆数与房价呈中等偏强正相关。\")\n",
    "print(\"   - 逻辑解释：车库是现代房屋的重要配套设施，可停车辆数越多（如3-4辆），意味着房屋定位更高端，能满足多车家庭的停车需求，同时车库面积也间接反映房屋整体规模，因此与房价正相关，箱线图显示4辆车车库的房屋均价显著高于1辆车车库的房屋。\")"
   ]
  },
  {
   "cell_type": "markdown",
   "metadata": {},
   "source": [
    "## 八、保存处理后的数据集"
   ]
  },
  {
   "cell_type": "code",
   "execution_count": 66,
   "metadata": {},
   "outputs": [
    {
     "name": "stdout",
     "output_type": "stream",
     "text": [
      "处理后的数据集已保存为：housing_data_processed.csv\n",
      "处理后的数据集形状：(1460, 78)\n"
     ]
    }
   ],
   "source": [
    "# 保存处理后的数据集供后续使用\n",
    "df.to_csv('housing_data_processed.csv', index=False)\n",
    "print(\"处理后的数据集已保存为：housing_data_processed.csv\")\n",
    "print(f\"处理后的数据集形状：{df.shape}\")"
   ]
  }
 ],
 "metadata": {
  "kernelspec": {
   "display_name": "Python 3",
   "language": "python",
   "name": "python3"
  },
  "language_info": {
   "codemirror_mode": {
    "name": "ipython",
    "version": 3
   },
   "file_extension": ".py",
   "mimetype": "text/x-python",
   "name": "python",
   "nbconvert_exporter": "python",
   "pygments_lexer": "ipython3",
   "version": "3.13.7"
  }
 },
 "nbformat": 4,
 "nbformat_minor": 4
}
